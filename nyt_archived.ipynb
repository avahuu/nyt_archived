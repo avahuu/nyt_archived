{
  "nbformat": 4,
  "nbformat_minor": 0,
  "metadata": {
    "colab": {
      "provenance": [],
      "authorship_tag": "ABX9TyNOdKeLdJz0kh1SxYc7if6V",
      "include_colab_link": true
    },
    "kernelspec": {
      "name": "python3",
      "display_name": "Python 3"
    },
    "language_info": {
      "name": "python"
    }
  },
  "cells": [
    {
      "cell_type": "markdown",
      "metadata": {
        "id": "view-in-github",
        "colab_type": "text"
      },
      "source": [
        "<a href=\"https://colab.research.google.com/github/avahuu/nyt_archived/blob/main/nyt_archived.ipynb\" target=\"_parent\"><img src=\"https://colab.research.google.com/assets/colab-badge.svg\" alt=\"Open In Colab\"/></a>"
      ]
    },
    {
      "cell_type": "code",
      "execution_count": 6,
      "metadata": {
        "id": "UrfPnLNnyTQh"
      },
      "outputs": [],
      "source": [
        "import re\n",
        "import itertools\n",
        "import numpy as np\n",
        "import pandas as pd\n",
        "import seaborn as sns\n",
        "import matplotlib.pyplot as plt"
      ]
    },
    {
      "cell_type": "code",
      "source": [
        "news_df = pd.read_json(\"/content/drive/MyDrive/github/nyt_archived/data/nyt_articles.txt\")\n",
        "news_df"
      ],
      "metadata": {
        "id": "O8q-6fCmyhct",
        "colab": {
          "base_uri": "https://localhost:8080/",
          "height": 367
        },
        "outputId": "126a17b9-7749-4de6-bbaa-28e494e4de7c"
      },
      "execution_count": 5,
      "outputs": [
        {
          "output_type": "stream",
          "name": "stderr",
          "text": [
            "/tmp/ipython-input-1777245084.py:1: FutureWarning: Passing literal json to 'read_json' is deprecated and will be removed in a future version. To read from a literal string, wrap it in a 'StringIO' object.\n",
            "  news_df = pd.read_json(\"/content/drive/MyDrive/github/nyt_archived/data/nyt_articles.txt\")\n"
          ]
        },
        {
          "output_type": "error",
          "ename": "ValueError",
          "evalue": "Expected object or value",
          "traceback": [
            "\u001b[0;31m---------------------------------------------------------------------------\u001b[0m",
            "\u001b[0;31mValueError\u001b[0m                                Traceback (most recent call last)",
            "\u001b[0;32m/tmp/ipython-input-1777245084.py\u001b[0m in \u001b[0;36m<cell line: 0>\u001b[0;34m()\u001b[0m\n\u001b[0;32m----> 1\u001b[0;31m \u001b[0mnews_df\u001b[0m \u001b[0;34m=\u001b[0m \u001b[0mpd\u001b[0m\u001b[0;34m.\u001b[0m\u001b[0mread_json\u001b[0m\u001b[0;34m(\u001b[0m\u001b[0;34m\"/content/drive/MyDrive/github/nyt_archived/data/nyt_articles.txt\"\u001b[0m\u001b[0;34m)\u001b[0m\u001b[0;34m\u001b[0m\u001b[0;34m\u001b[0m\u001b[0m\n\u001b[0m\u001b[1;32m      2\u001b[0m \u001b[0mnews_df\u001b[0m\u001b[0;34m\u001b[0m\u001b[0;34m\u001b[0m\u001b[0m\n",
            "\u001b[0;32m/usr/local/lib/python3.12/dist-packages/pandas/io/json/_json.py\u001b[0m in \u001b[0;36mread_json\u001b[0;34m(path_or_buf, orient, typ, dtype, convert_axes, convert_dates, keep_default_dates, precise_float, date_unit, encoding, encoding_errors, lines, chunksize, compression, nrows, storage_options, dtype_backend, engine)\u001b[0m\n\u001b[1;32m    813\u001b[0m         \u001b[0;32mreturn\u001b[0m \u001b[0mjson_reader\u001b[0m\u001b[0;34m\u001b[0m\u001b[0;34m\u001b[0m\u001b[0m\n\u001b[1;32m    814\u001b[0m     \u001b[0;32melse\u001b[0m\u001b[0;34m:\u001b[0m\u001b[0;34m\u001b[0m\u001b[0;34m\u001b[0m\u001b[0m\n\u001b[0;32m--> 815\u001b[0;31m         \u001b[0;32mreturn\u001b[0m \u001b[0mjson_reader\u001b[0m\u001b[0;34m.\u001b[0m\u001b[0mread\u001b[0m\u001b[0;34m(\u001b[0m\u001b[0;34m)\u001b[0m\u001b[0;34m\u001b[0m\u001b[0;34m\u001b[0m\u001b[0m\n\u001b[0m\u001b[1;32m    816\u001b[0m \u001b[0;34m\u001b[0m\u001b[0m\n\u001b[1;32m    817\u001b[0m \u001b[0;34m\u001b[0m\u001b[0m\n",
            "\u001b[0;32m/usr/local/lib/python3.12/dist-packages/pandas/io/json/_json.py\u001b[0m in \u001b[0;36mread\u001b[0;34m(self)\u001b[0m\n\u001b[1;32m   1023\u001b[0m                         \u001b[0mobj\u001b[0m \u001b[0;34m=\u001b[0m \u001b[0mself\u001b[0m\u001b[0;34m.\u001b[0m\u001b[0m_get_object_parser\u001b[0m\u001b[0;34m(\u001b[0m\u001b[0mself\u001b[0m\u001b[0;34m.\u001b[0m\u001b[0m_combine_lines\u001b[0m\u001b[0;34m(\u001b[0m\u001b[0mdata_lines\u001b[0m\u001b[0;34m)\u001b[0m\u001b[0;34m)\u001b[0m\u001b[0;34m\u001b[0m\u001b[0;34m\u001b[0m\u001b[0m\n\u001b[1;32m   1024\u001b[0m                 \u001b[0;32melse\u001b[0m\u001b[0;34m:\u001b[0m\u001b[0;34m\u001b[0m\u001b[0;34m\u001b[0m\u001b[0m\n\u001b[0;32m-> 1025\u001b[0;31m                     \u001b[0mobj\u001b[0m \u001b[0;34m=\u001b[0m \u001b[0mself\u001b[0m\u001b[0;34m.\u001b[0m\u001b[0m_get_object_parser\u001b[0m\u001b[0;34m(\u001b[0m\u001b[0mself\u001b[0m\u001b[0;34m.\u001b[0m\u001b[0mdata\u001b[0m\u001b[0;34m)\u001b[0m\u001b[0;34m\u001b[0m\u001b[0;34m\u001b[0m\u001b[0m\n\u001b[0m\u001b[1;32m   1026\u001b[0m                 \u001b[0;32mif\u001b[0m \u001b[0mself\u001b[0m\u001b[0;34m.\u001b[0m\u001b[0mdtype_backend\u001b[0m \u001b[0;32mis\u001b[0m \u001b[0;32mnot\u001b[0m \u001b[0mlib\u001b[0m\u001b[0;34m.\u001b[0m\u001b[0mno_default\u001b[0m\u001b[0;34m:\u001b[0m\u001b[0;34m\u001b[0m\u001b[0;34m\u001b[0m\u001b[0m\n\u001b[1;32m   1027\u001b[0m                     return obj.convert_dtypes(\n",
            "\u001b[0;32m/usr/local/lib/python3.12/dist-packages/pandas/io/json/_json.py\u001b[0m in \u001b[0;36m_get_object_parser\u001b[0;34m(self, json)\u001b[0m\n\u001b[1;32m   1049\u001b[0m         \u001b[0mobj\u001b[0m \u001b[0;34m=\u001b[0m \u001b[0;32mNone\u001b[0m\u001b[0;34m\u001b[0m\u001b[0;34m\u001b[0m\u001b[0m\n\u001b[1;32m   1050\u001b[0m         \u001b[0;32mif\u001b[0m \u001b[0mtyp\u001b[0m \u001b[0;34m==\u001b[0m \u001b[0;34m\"frame\"\u001b[0m\u001b[0;34m:\u001b[0m\u001b[0;34m\u001b[0m\u001b[0;34m\u001b[0m\u001b[0m\n\u001b[0;32m-> 1051\u001b[0;31m             \u001b[0mobj\u001b[0m \u001b[0;34m=\u001b[0m \u001b[0mFrameParser\u001b[0m\u001b[0;34m(\u001b[0m\u001b[0mjson\u001b[0m\u001b[0;34m,\u001b[0m \u001b[0;34m**\u001b[0m\u001b[0mkwargs\u001b[0m\u001b[0;34m)\u001b[0m\u001b[0;34m.\u001b[0m\u001b[0mparse\u001b[0m\u001b[0;34m(\u001b[0m\u001b[0;34m)\u001b[0m\u001b[0;34m\u001b[0m\u001b[0;34m\u001b[0m\u001b[0m\n\u001b[0m\u001b[1;32m   1052\u001b[0m \u001b[0;34m\u001b[0m\u001b[0m\n\u001b[1;32m   1053\u001b[0m         \u001b[0;32mif\u001b[0m \u001b[0mtyp\u001b[0m \u001b[0;34m==\u001b[0m \u001b[0;34m\"series\"\u001b[0m \u001b[0;32mor\u001b[0m \u001b[0mobj\u001b[0m \u001b[0;32mis\u001b[0m \u001b[0;32mNone\u001b[0m\u001b[0;34m:\u001b[0m\u001b[0;34m\u001b[0m\u001b[0;34m\u001b[0m\u001b[0m\n",
            "\u001b[0;32m/usr/local/lib/python3.12/dist-packages/pandas/io/json/_json.py\u001b[0m in \u001b[0;36mparse\u001b[0;34m(self)\u001b[0m\n\u001b[1;32m   1185\u001b[0m     \u001b[0;34m@\u001b[0m\u001b[0mfinal\u001b[0m\u001b[0;34m\u001b[0m\u001b[0;34m\u001b[0m\u001b[0m\n\u001b[1;32m   1186\u001b[0m     \u001b[0;32mdef\u001b[0m \u001b[0mparse\u001b[0m\u001b[0;34m(\u001b[0m\u001b[0mself\u001b[0m\u001b[0;34m)\u001b[0m\u001b[0;34m:\u001b[0m\u001b[0;34m\u001b[0m\u001b[0;34m\u001b[0m\u001b[0m\n\u001b[0;32m-> 1187\u001b[0;31m         \u001b[0mself\u001b[0m\u001b[0;34m.\u001b[0m\u001b[0m_parse\u001b[0m\u001b[0;34m(\u001b[0m\u001b[0;34m)\u001b[0m\u001b[0;34m\u001b[0m\u001b[0;34m\u001b[0m\u001b[0m\n\u001b[0m\u001b[1;32m   1188\u001b[0m \u001b[0;34m\u001b[0m\u001b[0m\n\u001b[1;32m   1189\u001b[0m         \u001b[0;32mif\u001b[0m \u001b[0mself\u001b[0m\u001b[0;34m.\u001b[0m\u001b[0mobj\u001b[0m \u001b[0;32mis\u001b[0m \u001b[0;32mNone\u001b[0m\u001b[0;34m:\u001b[0m\u001b[0;34m\u001b[0m\u001b[0;34m\u001b[0m\u001b[0m\n",
            "\u001b[0;32m/usr/local/lib/python3.12/dist-packages/pandas/io/json/_json.py\u001b[0m in \u001b[0;36m_parse\u001b[0;34m(self)\u001b[0m\n\u001b[1;32m   1401\u001b[0m         \u001b[0;32mif\u001b[0m \u001b[0morient\u001b[0m \u001b[0;34m==\u001b[0m \u001b[0;34m\"columns\"\u001b[0m\u001b[0;34m:\u001b[0m\u001b[0;34m\u001b[0m\u001b[0;34m\u001b[0m\u001b[0m\n\u001b[1;32m   1402\u001b[0m             self.obj = DataFrame(\n\u001b[0;32m-> 1403\u001b[0;31m                 \u001b[0mujson_loads\u001b[0m\u001b[0;34m(\u001b[0m\u001b[0mjson\u001b[0m\u001b[0;34m,\u001b[0m \u001b[0mprecise_float\u001b[0m\u001b[0;34m=\u001b[0m\u001b[0mself\u001b[0m\u001b[0;34m.\u001b[0m\u001b[0mprecise_float\u001b[0m\u001b[0;34m)\u001b[0m\u001b[0;34m,\u001b[0m \u001b[0mdtype\u001b[0m\u001b[0;34m=\u001b[0m\u001b[0;32mNone\u001b[0m\u001b[0;34m\u001b[0m\u001b[0;34m\u001b[0m\u001b[0m\n\u001b[0m\u001b[1;32m   1404\u001b[0m             )\n\u001b[1;32m   1405\u001b[0m         \u001b[0;32melif\u001b[0m \u001b[0morient\u001b[0m \u001b[0;34m==\u001b[0m \u001b[0;34m\"split\"\u001b[0m\u001b[0;34m:\u001b[0m\u001b[0;34m\u001b[0m\u001b[0;34m\u001b[0m\u001b[0m\n",
            "\u001b[0;31mValueError\u001b[0m: Expected object or value"
          ]
        }
      ]
    },
    {
      "cell_type": "code",
      "source": [
        "dates = pd.DataFrame(index=news_df.index)\n",
        "\n",
        "dates[\"Year\"] = news_df[\"pub_date\"].str.extract(r\"^(\\d{4})\", expand=False)\n",
        "dates[\"Month\"] = news_df[\"pub_date\"].str.extract(r\"-(\\d{2})-\", expand=False)\n",
        "dates[\"Minute\"] = news_df[\"pub_date\"].str.extract(r\"T\\d{2}:(\\d{2}):\", expand=False)\n",
        "\n",
        "dates = dates.astype(int)\n",
        "\n",
        "news_df_dates = news_df.merge(\n",
        "    right=dates,\n",
        "    left_index=True,\n",
        "    right_index=True\n",
        ")\n",
        "news_df_dates.head()"
      ],
      "metadata": {
        "id": "wLtB0yiU0oOK"
      },
      "execution_count": null,
      "outputs": []
    },
    {
      "cell_type": "code",
      "source": [
        "quarters = ((news_df_dates[\"Month\"] - 1) // 3 + 1).astype(str)\n",
        "\n",
        "# Concatenate Year + \"Q\" + Quarter\n",
        "news_df_dates[\"Quarter\"] = news_df_dates[\"Year\"].astype(str) + \"Q\" + quarters"
      ],
      "metadata": {
        "id": "5BfIJdPeCquw"
      },
      "execution_count": null,
      "outputs": []
    },
    {
      "cell_type": "code",
      "source": [
        "#investigate popularity trends of three topics: China, Zoom, Labubu, and GPT models\n",
        "\n",
        "patterns = {\n",
        "    \"China\":  r\"\\bChina\\b\",\n",
        "    \"Labubu\": r\"\\bLabubu(s)?\\b\",\n",
        "    \"Zoom\": r\"\\bZoom\\b\",\n",
        "    \"GPT Model\": r\"(?:\\b[A-Za-z]+-?GPT\\b|\\bGPT-\\d[A-Za-z]?\\b)\",\n",
        "}\n",
        "\n",
        "for col, pat in patterns.items():\n",
        "    news_df_dates[col] = (\n",
        "        news_df_dates[\"lead_paragraph\"]\n",
        "        .str.count(pat)               # regex by default, case-sensitive\n",
        "        .fillna(0)\n",
        "        .astype(int)\n",
        "    )\n",
        "\n",
        "news_df_dates"
      ],
      "metadata": {
        "id": "FvTegOVbEgWj"
      },
      "execution_count": null,
      "outputs": []
    },
    {
      "cell_type": "code",
      "source": [
        "# The values are the number of articles that mentioned each topic in each quarter\n",
        "\n",
        "topics = [\"China\",\"Labubu\", \"Zoom\", \"GPT Model\"]\n",
        "\n",
        "def num_mentioned(ser):\n",
        "    return (ser > 0).sum()\n",
        "\n",
        "topic_mentions = (\n",
        "    news_df_dates\n",
        "    .groupby(\"Quarter\")[topics]\n",
        "    .agg(num_mentioned)\n",
        "    .sort_index()\n",
        ")\n",
        "\n",
        "# Year 2023 records\n",
        "topic_mentions"
      ],
      "metadata": {
        "id": "uVdpzAJaFTgN"
      },
      "execution_count": null,
      "outputs": []
    },
    {
      "cell_type": "code",
      "source": [
        "#visualization\n",
        "\n",
        "plt.figure(figsize=(12, 5))\n",
        "\n",
        "for topic in topics:\n",
        "    sns.lineplot(data=topic_mentions, x=\"Quarter\", y=topic, marker=\"o\", label=topic)\n",
        "\n",
        "plt.xticks(rotation=60)\n",
        "plt.yticks()\n",
        "plt.ylabel(\"Number of Articles\")\n",
        "plt.xlabel(\"Quarter\")\n",
        "plt.title(\"Number of Articles Released (2019-2024)\")\n",
        "plt.gcf().set_facecolor('white')\n",
        "plt.show()"
      ],
      "metadata": {
        "id": "8aDF7YCIHXYa"
      },
      "execution_count": null,
      "outputs": []
    },
    {
      "cell_type": "code",
      "source": [
        "# Sentiment Analysis\n",
        "from transformers import pipeline\n",
        "model_checkpoint = \"distilbert/distilbert-base-uncased-finetuned-sst-2-english\"\n",
        "\n",
        "sentiment_analysis = pipeline(\"sentiment-analysis\", model=model_checkpoint)\n",
        "\n",
        "import torch\n",
        "from transformers import pipeline\n",
        "\n",
        "# 2)\n",
        "model_checkpoint = \"distilbert-base-uncased-finetuned-sst-2-english\"\n",
        "\n",
        "device = 0 if torch.cuda.is_available() else -1\n",
        "\n",
        "sentiment_analysis = pipeline(\n",
        "    task=\"sentiment-analysis\",\n",
        "    model=model_checkpoint,\n",
        "    device=device\n",
        ")\n",
        "\n",
        "texts = news_df_dates[\"lead_paragraph\"].fillna(\"\").tolist()\n",
        "\n",
        "results = sentiment_analysis(\n",
        "    texts,\n",
        "    truncation=True,\n",
        "    max_length=256,\n",
        "    batch_size=32\n",
        ")\n",
        "\n",
        "nyt_sentiments = pd.DataFrame(results, index=news_df_dates.index)\n",
        "\n",
        "nyt_sentiments[\"sentiment_sign\"] = nyt_sentiments[\"label\"].map({\"POSITIVE\": 1, \"NEGATIVE\": -1})\n",
        "nyt_sentiments[\"score_signed\"] = nyt_sentiments[\"score\"] * nyt_sentiments[\"sentiment_sign\"]\n"
      ],
      "metadata": {
        "id": "dmJDWja1HYHB"
      },
      "execution_count": null,
      "outputs": []
    },
    {
      "cell_type": "code",
      "source": [
        "sentiment = nyt_sentiments"
      ],
      "metadata": {
        "id": "0NVMQaIQUSdi"
      },
      "execution_count": null,
      "outputs": []
    },
    {
      "cell_type": "code",
      "source": [
        "sentiment[\"article_sentiment\"] = (\n",
        "    (2*(sentiment[\"label\"] == \"POSITIVE\") - 1) * sentiment[\"score\"]\n",
        ")\n",
        "news_df_sentiment = news_df_dates.merge(sentiment, on=\"web_url\")\n",
        "news_df_sentiment = news_df_sentiment.drop(columns=[\"label\", \"score\"])"
      ],
      "metadata": {
        "id": "M9h-GbQrUggw"
      },
      "execution_count": null,
      "outputs": []
    },
    {
      "cell_type": "code",
      "source": [],
      "metadata": {
        "id": "FyWnzW9IUuBP"
      },
      "execution_count": null,
      "outputs": []
    }
  ]
}